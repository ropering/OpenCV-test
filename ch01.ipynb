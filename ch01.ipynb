{
 "cells": [
  {
   "cell_type": "code",
   "execution_count": 27,
   "source": [
    "# 그림 읽어오기\r\n",
    "import numpy as np\r\n",
    "import cv2\r\n",
    "\r\n",
    "img = cv2.imread(\"source_code/images/img1.jpg\", flags=1)\r\n",
    "\r\n",
    "cv2.namedWindow(\"window name\", cv2.WINDOW_NORMAL)\r\n",
    "cv2.imshow(\"img\", img)\r\n",
    "cv2.waitKey(0)\r\n",
    "cv2.destroyAllWindows()\r\n"
   ],
   "outputs": [],
   "metadata": {}
  },
  {
   "cell_type": "code",
   "execution_count": 30,
   "source": [
    "img.shape # 행, 열, 차원"
   ],
   "outputs": [
    {
     "output_type": "execute_result",
     "data": {
      "text/plain": [
       "(240, 320, 3)"
      ]
     },
     "metadata": {},
     "execution_count": 30
    }
   ],
   "metadata": {}
  },
  {
   "cell_type": "code",
   "execution_count": 37,
   "source": [
    "#그림 조작하기\r\n",
    "import numpy as np\r\n",
    "import cv2\r\n",
    "\r\n",
    "img = cv2.imread(\"source_code/images/img1.jpg\", 1)\r\n",
    "\r\n",
    "height = img.shape[0]\r\n",
    "width = img.shape[1]\r\n",
    "\r\n",
    "for y in range(0, height):\r\n",
    "    img.itemset(y, int(width/2), 0, 0) # 행(세로), 열(가로)\r\n",
    "    img.itemset(y, int(width/2), 1, 0)\r\n",
    "    img.itemset(y, int(width/2), 2, 255)\r\n",
    "\r\n",
    "for x in range(0, width):\r\n",
    "    img.itemset(int(height/2), x, 0, 255) # 행(세로), 열(가로)\r\n",
    "    img.itemset(int(height/2), x, 1, 0)\r\n",
    "    img.itemset(int(height/2), x, 2, 0)\r\n",
    "\r\n",
    "cv2.imshow(\"img\", img)\r\n",
    "cv2.waitKey()"
   ],
   "outputs": [
    {
     "output_type": "execute_result",
     "data": {
      "text/plain": [
       "48"
      ]
     },
     "metadata": {},
     "execution_count": 37
    }
   ],
   "metadata": {}
  },
  {
   "cell_type": "markdown",
   "source": [
    "### 21.09.07 수업 정리\r\n",
    "\r\n",
    "- grayscale 이미지 : \r\n",
    "    - 색 : 0은 검은색 ~ 255는 흰색\r\n",
    "- 색 이미지:\r\n",
    "    - r, g, b 세가지 색으로 구성\r\n",
    "    - opencv에서는 b, g, r 순서로 되어있다\r\n",
    "\r\n",
    "- numpy의 array는 x, y 순서가 다르다 (우리가 아는 x, y -> 행, 열)\r\n",
    "\r\n",
    "- opencv는 행렬이 대부분이다"
   ],
   "metadata": {}
  },
  {
   "cell_type": "code",
   "execution_count": 44,
   "source": [
    "import cv2\r\n",
    "\r\n",
    "cap = cv2.VideoCapture(\"source_code/images/video2.mp4\")\r\n",
    "\r\n",
    "while cap.isOpened():\r\n",
    "    success, frame = cap.read()\r\n",
    "\r\n",
    "    if success:\r\n",
    "        cv2.imshow('image', frame)\r\n",
    "\r\n",
    "        key = cv2.waitKey(50) & 0xFF\r\n",
    "\r\n",
    "        if key == 27: # ESC\r\n",
    "            break\r\n",
    "    else:\r\n",
    "        break\r\n",
    "cap.release()\r\n",
    "cv2.destroyAllWindows()"
   ],
   "outputs": [],
   "metadata": {}
  },
  {
   "cell_type": "code",
   "execution_count": null,
   "source": [],
   "outputs": [],
   "metadata": {}
  }
 ],
 "metadata": {
  "interpreter": {
   "hash": "71f84ef3aea188e53b2e42e9fc3d068c6763f4a9de7afb1dd5d286d31a9d36bf"
  },
  "kernelspec": {
   "name": "python3",
   "display_name": "Python 3.6.8 64-bit ('tutorial-env': venv)"
  },
  "language_info": {
   "codemirror_mode": {
    "name": "ipython",
    "version": 3
   },
   "file_extension": ".py",
   "mimetype": "text/x-python",
   "name": "python",
   "nbconvert_exporter": "python",
   "pygments_lexer": "ipython3",
   "version": "3.6.8"
  }
 },
 "nbformat": 4,
 "nbformat_minor": 2
}